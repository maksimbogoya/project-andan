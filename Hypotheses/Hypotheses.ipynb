{
 "cells": [
  {
   "cell_type": "markdown",
   "id": "c3cda8f1",
   "metadata": {},
   "source": [
    "# Проверка гипотез"
   ]
  },
  {
   "cell_type": "markdown",
   "id": "27ab14c6",
   "metadata": {},
   "source": [
    "В ходе изучения переменных мы заметили некоторые интересные закономерности, которые проверим в этой части работы."
   ]
  },
  {
   "cell_type": "code",
   "execution_count": 17,
   "id": "ce659fc7",
   "metadata": {},
   "outputs": [],
   "source": [
    "import pandas as pd\n",
    "import scipy.stats as sts\n",
    "import numpy as np\n",
    "import matplotlib.pyplot as plt \n",
    "import seaborn as sns"
   ]
  },
  {
   "cell_type": "code",
   "execution_count": 127,
   "id": "49833717",
   "metadata": {},
   "outputs": [
    {
     "data": {
      "text/html": [
       "<div>\n",
       "<style scoped>\n",
       "    .dataframe tbody tr th:only-of-type {\n",
       "        vertical-align: middle;\n",
       "    }\n",
       "\n",
       "    .dataframe tbody tr th {\n",
       "        vertical-align: top;\n",
       "    }\n",
       "\n",
       "    .dataframe thead th {\n",
       "        text-align: right;\n",
       "    }\n",
       "</style>\n",
       "<table border=\"1\" class=\"dataframe\">\n",
       "  <thead>\n",
       "    <tr style=\"text-align: right;\">\n",
       "      <th></th>\n",
       "      <th>Модель</th>\n",
       "      <th>Цена</th>\n",
       "      <th>Год выпуска</th>\n",
       "      <th>Пробег</th>\n",
       "      <th>Привод</th>\n",
       "      <th>ЛС</th>\n",
       "      <th>Тип двигателя</th>\n",
       "      <th>Тип кузова</th>\n",
       "      <th>Коробка передач</th>\n",
       "      <th>Объём двигателя</th>\n",
       "      <th>Цвет</th>\n",
       "      <th>Марка</th>\n",
       "      <th>Класс</th>\n",
       "      <th>Налог</th>\n",
       "    </tr>\n",
       "  </thead>\n",
       "  <tbody>\n",
       "    <tr>\n",
       "      <th>0</th>\n",
       "      <td>Kia Carnival IV</td>\n",
       "      <td>4379000</td>\n",
       "      <td>2020</td>\n",
       "      <td>26000</td>\n",
       "      <td>передний</td>\n",
       "      <td>202</td>\n",
       "      <td>Дизель</td>\n",
       "      <td>минивэн</td>\n",
       "      <td>автомат</td>\n",
       "      <td>2.2</td>\n",
       "      <td>чёрный</td>\n",
       "      <td>Kia</td>\n",
       "      <td>4</td>\n",
       "      <td>14443</td>\n",
       "    </tr>\n",
       "    <tr>\n",
       "      <th>1</th>\n",
       "      <td>Kia Carnival III</td>\n",
       "      <td>2519000</td>\n",
       "      <td>2018</td>\n",
       "      <td>43000</td>\n",
       "      <td>передний</td>\n",
       "      <td>202</td>\n",
       "      <td>Дизель</td>\n",
       "      <td>минивэн</td>\n",
       "      <td>автомат</td>\n",
       "      <td>2.2</td>\n",
       "      <td>чёрный</td>\n",
       "      <td>Kia</td>\n",
       "      <td>3</td>\n",
       "      <td>13130</td>\n",
       "    </tr>\n",
       "    <tr>\n",
       "      <th>2</th>\n",
       "      <td>Tesla Model X Plaid I Рестайлинг</td>\n",
       "      <td>15490000</td>\n",
       "      <td>2022</td>\n",
       "      <td>70</td>\n",
       "      <td>полный</td>\n",
       "      <td>1020</td>\n",
       "      <td>Электро</td>\n",
       "      <td>внедорожник 5 дв.</td>\n",
       "      <td>автомат</td>\n",
       "      <td>2.4</td>\n",
       "      <td>чёрный</td>\n",
       "      <td>Tesla</td>\n",
       "      <td>5</td>\n",
       "      <td>0</td>\n",
       "    </tr>\n",
       "    <tr>\n",
       "      <th>3</th>\n",
       "      <td>LADA (ВАЗ) Vesta I</td>\n",
       "      <td>1330000</td>\n",
       "      <td>2021</td>\n",
       "      <td>9000</td>\n",
       "      <td>передний</td>\n",
       "      <td>113</td>\n",
       "      <td>Бензин</td>\n",
       "      <td>седан</td>\n",
       "      <td>вариатор</td>\n",
       "      <td>1.6</td>\n",
       "      <td>белый</td>\n",
       "      <td>LADA</td>\n",
       "      <td>2</td>\n",
       "      <td>2825</td>\n",
       "    </tr>\n",
       "    <tr>\n",
       "      <th>4</th>\n",
       "      <td>McLaren 765LT</td>\n",
       "      <td>59500000</td>\n",
       "      <td>2021</td>\n",
       "      <td>1311</td>\n",
       "      <td>задний</td>\n",
       "      <td>765</td>\n",
       "      <td>Бензин</td>\n",
       "      <td>купе</td>\n",
       "      <td>робот</td>\n",
       "      <td>4.0</td>\n",
       "      <td>фиолетовый</td>\n",
       "      <td>McLaren</td>\n",
       "      <td>5</td>\n",
       "      <td>344250</td>\n",
       "    </tr>\n",
       "  </tbody>\n",
       "</table>\n",
       "</div>"
      ],
      "text/plain": [
       "                             Модель      Цена  Год выпуска  Пробег    Привод  \\\n",
       "0                   Kia Carnival IV   4379000         2020   26000  передний   \n",
       "1                  Kia Carnival III   2519000         2018   43000  передний   \n",
       "2  Tesla Model X Plaid I Рестайлинг  15490000         2022      70    полный   \n",
       "3                LADA (ВАЗ) Vesta I   1330000         2021    9000  передний   \n",
       "4                     McLaren 765LT  59500000         2021    1311    задний   \n",
       "\n",
       "     ЛС Тип двигателя         Тип кузова Коробка передач  Объём двигателя  \\\n",
       "0   202        Дизель            минивэн         автомат              2.2   \n",
       "1   202        Дизель            минивэн         автомат              2.2   \n",
       "2  1020       Электро  внедорожник 5 дв.         автомат              2.4   \n",
       "3   113        Бензин              седан        вариатор              1.6   \n",
       "4   765        Бензин               купе           робот              4.0   \n",
       "\n",
       "         Цвет    Марка  Класс   Налог  \n",
       "0      чёрный      Kia      4   14443  \n",
       "1      чёрный      Kia      3   13130  \n",
       "2      чёрный    Tesla      5       0  \n",
       "3       белый     LADA      2    2825  \n",
       "4  фиолетовый  McLaren      5  344250  "
      ]
     },
     "execution_count": 127,
     "metadata": {},
     "output_type": "execute_result"
    }
   ],
   "source": [
    "df = pd.read_csv('final_data.csv', index_col='Unnamed: 0')\n",
    "df.head()"
   ]
  },
  {
   "cell_type": "markdown",
   "id": "981c37b1",
   "metadata": {},
   "source": [
    "## Гипотеза о равенстве цен машин разных цветов"
   ]
  },
  {
   "cell_type": "markdown",
   "id": "2b6f633b",
   "metadata": {},
   "source": [
    "Предположение о том, что большинство людей не сильно любят экспериментировать и выделяться и предпочитают такие консервативные цвет, как белый или черный, является весьма логичным. Проверим, приводит ли к формированию дисконта при продаже необычный цвет машины. Формально гипотезы буду звучать так:\n",
    "$$\n",
    "H_0 : \\mu_{bw} = \\mu_{oth} \n",
    "$$\n",
    "$$\n",
    "H_1 : \\mu_{bw} > \\mu_{oth}\n",
    "$$"
   ]
  },
  {
   "cell_type": "code",
   "execution_count": 129,
   "id": "252b3cc3",
   "metadata": {},
   "outputs": [],
   "source": [
    "df1 = df.loc[df['Цена'] <= 40*10**6] # Избавимся от машин дороже 40 млн руб"
   ]
  },
  {
   "cell_type": "code",
   "execution_count": 130,
   "id": "5d6badcb",
   "metadata": {},
   "outputs": [],
   "source": [
    "bnw = np.logical_or(df1['Цвет'] == 'чёрный', df1['Цвет'] == 'белый')\n",
    "bnw_price = df1[bnw]['Цена'] # белые и черные машины\n",
    "oth_price = df1[~bnw]['Цена'] # остальные"
   ]
  },
  {
   "cell_type": "code",
   "execution_count": 131,
   "id": "2b404aea",
   "metadata": {},
   "outputs": [
    {
     "data": {
      "text/plain": [
       "Text(0, 0.5, 'Количество наблюдений')"
      ]
     },
     "execution_count": 131,
     "metadata": {},
     "output_type": "execute_result"
    },
    {
     "data": {
      "image/png": "[encoded data removed]",
      "text/plain": [
       "<Figure size 432x288 with 1 Axes>"
      ]
     },
     "metadata": {
      "needs_background": "light"
     },
     "output_type": "display_data"
    },
    {
     "data": {
      "image/png": "[encoded data removed]",
      "text/plain": [
       "<Figure size 432x288 with 1 Axes>"
      ]
     },
     "metadata": {
      "needs_background": "light"
     },
     "output_type": "display_data"
    }
   ],
   "source": [
    "plt.title('Распределение цен черных и белых машин')\n",
    "plt.hist(bnw_price, bins=30)\n",
    "plt.xlabel('Цена')\n",
    "plt.ylabel('Количество наблюдений')\n",
    "\n",
    "plt.figure()\n",
    "plt.title('Распределение цен остальных машин')\n",
    "plt.hist(oth_price, bins=30, color='orange')\n",
    "plt.xlabel('Цена')\n",
    "plt.ylabel('Количество наблюдений')"
   ]
  },
  {
   "cell_type": "markdown",
   "id": "6e694810",
   "metadata": {},
   "source": [
    "Обе гистограммы чем-то напоминаются экспоненциальное распределение, однако как можно заметить, у нас все еще достаточно много наблюдений с очень высокой ценой и тяжелый правый хвост в следствие этого."
   ]
  },
  {
   "cell_type": "markdown",
   "id": "4ddbb7a1",
   "metadata": {},
   "source": [
    "## Асимптотический z-тест"
   ]
  },
  {
   "cell_type": "markdown",
   "id": "03ecfa87",
   "metadata": {},
   "source": [
    "Поскольку мы имеем достаточно много наблюдений, а разность мат. ожиданий распределена асимптотически нормально, можно начать проверку именно с этого теста. \n",
    "\n",
    "$$\n",
    "Z_{obs} = \\frac{\\overline{X}_{bw} - \\overline{X}_{oth} - 0}{\\sqrt{\\frac{\\hat{\\sigma_{bw^2}}}{n_{bw}} + \\frac{\\hat{\\sigma_{oth^2}}}{n_{oth}}}}\n",
    "$$"
   ]
  },
  {
   "cell_type": "code",
   "execution_count": 125,
   "id": "d5d3456d",
   "metadata": {},
   "outputs": [
    {
     "data": {
      "text/plain": [
       "2.6365523597693397e-07"
      ]
     },
     "execution_count": 125,
     "metadata": {},
     "output_type": "execute_result"
    }
   ],
   "source": [
    "z_obs = (bnw_price.mean() - oth_price.mean()) / np.sqrt(np.var(bnw_price, ddof=1)/len(bnw_price) + np.var(oth_price, ddof=1)/len(oth_price))\n",
    "\n",
    "1 - sts.norm.cdf(z_obs) # p-value"
   ]
  },
  {
   "cell_type": "markdown",
   "id": "1019a393",
   "metadata": {},
   "source": [
    "Получается, что гипотеза о равенства отвергается при любом уровне значимости"
   ]
  },
  {
   "cell_type": "markdown",
   "id": "ca36300f",
   "metadata": {},
   "source": [
    "Чтобы закрепить этот результат, можно провести тест бутстрапом t-статистики."
   ]
  },
  {
   "cell_type": "markdown",
   "id": "c5ffa31c",
   "metadata": {},
   "source": [
    "## Бутстрап t-статистики"
   ]
  },
  {
   "cell_type": "code",
   "execution_count": 126,
   "id": "f2c97214",
   "metadata": {},
   "outputs": [
    {
     "data": {
      "text/plain": [
       "Ttest_indResult(statistic=5.016099428877058, pvalue=9.999000099990002e-05)"
      ]
     },
     "execution_count": 126,
     "metadata": {},
     "output_type": "execute_result"
    }
   ],
   "source": [
    "sts.ttest_ind(bnw_price, oth_price, equal_var=False, permutations=10000)"
   ]
  },
  {
   "cell_type": "markdown",
   "id": "fa44653d",
   "metadata": {},
   "source": [
    "Как можно заметить, и в этом тесте p-value низок для всех разумных уровнях значимости.\n",
    "\n",
    "Таким образом, гипотеза о равенстве цен машин разных цветов отвергается."
   ]
  },
  {
   "cell_type": "markdown",
   "id": "9de94394",
   "metadata": {},
   "source": [
    "# Доля машин с МКПП стала ниже в течение последних 5 лет"
   ]
  },
  {
   "cell_type": "markdown",
   "id": "524d6a6f",
   "metadata": {},
   "source": [
    "Обычно машины оборудованные механической коробкой передач обходятся дешевле в производстве, но также есть маленькая доля машин c МКПП, которые делаются таковыми для аутентичности. Тем не менее, мы предполагаем, что все большая доля выпускаемых машин переходит к автоматической коробке. Проверим эту гипотезу (p - доля машин с МКПП):\n",
    "\n",
    "$$\n",
    "H_0: p_{new} = p_{old}\n",
    "$$\n",
    "$$\n",
    "H_1: p_{new} < p_{old}\n",
    "$$"
   ]
  },
  {
   "cell_type": "code",
   "execution_count": 144,
   "id": "59272729",
   "metadata": {},
   "outputs": [
    {
     "name": "stdout",
     "output_type": "stream",
     "text": [
      "0.19709355131698456 0.07481125600549074\n"
     ]
    }
   ],
   "source": [
    "old = df.loc[df['Год выпуска'] < 2018]\n",
    "new = df.loc[df['Год выпуска'] >= 2018]\n",
    "\n",
    "old_p = (old['Коробка передач'] == 'механика').mean()\n",
    "new_p = (new['Коробка передач'] == 'механика').mean()\n",
    "\n",
    "print(old_p, new_p)"
   ]
  },
  {
   "cell_type": "markdown",
   "id": "9d58ae0b",
   "metadata": {},
   "source": [
    "Начнем, как обычно, с асимптотического z-теста."
   ]
  },
  {
   "cell_type": "markdown",
   "id": "1fda34c9",
   "metadata": {},
   "source": [
    "## Z-test"
   ]
  },
  {
   "cell_type": "markdown",
   "id": "cb94e828",
   "metadata": {},
   "source": [
    "$$\n",
    "Z_{obs} = \\frac{\\hat{p}_{new} - \\hat{p}_{old} - 0}{\\sqrt{\\frac{\\hat{\\sigma_{old}^2}}{n_{old}} + \\frac{\\hat{\\sigma_{new}^2}}{n_{new}}}}\n",
    "$$"
   ]
  },
  {
   "cell_type": "code",
   "execution_count": 145,
   "id": "227d25b1",
   "metadata": {},
   "outputs": [
    {
     "data": {
      "text/plain": [
       "4.837200291120715e-19"
      ]
     },
     "execution_count": 145,
     "metadata": {},
     "output_type": "execute_result"
    }
   ],
   "source": [
    "z_obs = (new_p - old_p) / np.sqrt(np.var(old['Коробка передач'] == 'механика', ddof=1) / len(old) + np.var(new['Коробка передач'] == 'механика', ddof=1) / len(new))\n",
    "\n",
    "sts.norm.cdf(z_obs)"
   ]
  },
  {
   "cell_type": "markdown",
   "id": "ba4dae2d",
   "metadata": {},
   "source": [
    "P-value получился очень маленьким, поэтому гипотеза о равенстве отвергается."
   ]
  },
  {
   "cell_type": "markdown",
   "id": "46b18ba1",
   "metadata": {},
   "source": [
    "## Бутстрап t-статистики"
   ]
  },
  {
   "cell_type": "code",
   "execution_count": 160,
   "id": "2126cb6a",
   "metadata": {},
   "outputs": [
    {
     "data": {
      "text/plain": [
       "Ttest_indResult(statistic=5.016099428877058, pvalue=9.999000099990002e-05)"
      ]
     },
     "execution_count": 160,
     "metadata": {},
     "output_type": "execute_result"
    }
   ],
   "source": [
    "sts.ttest_ind(bnw_price, oth_price, equal_var=False, permutations=10000)"
   ]
  },
  {
   "cell_type": "markdown",
   "id": "9adb5560",
   "metadata": {},
   "source": [
    "Этот тест также отвергает гипотезу о равенстве."
   ]
  }
 ],
 "metadata": {
  "kernelspec": {
   "display_name": "Python 3 (ipykernel)",
   "language": "python",
   "name": "python3"
  },
  "language_info": {
   "codemirror_mode": {
    "name": "ipython",
    "version": 3
   },
   "file_extension": ".py",
   "mimetype": "text/x-python",
   "name": "python",
   "nbconvert_exporter": "python",
   "pygments_lexer": "ipython3",
   "version": "3.9.12"
  }
 },
 "nbformat": 4,
 "nbformat_minor": 5
}
