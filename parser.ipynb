{
 "cells": [
  {
   "cell_type": "code",
   "execution_count": 1,
   "id": "251942b9",
   "metadata": {},
   "outputs": [],
   "source": [
    "from selenium import webdriver\n",
    "from selenium.webdriver.common.by import By\n",
    "from bs4 import BeautifulSoup\n",
    "import numpy as np \n",
    "import pandas as pd\n",
    "import re\n",
    "import warnings\n",
    "import time\n",
    "\n",
    "warnings.filterwarnings(\"ignore\") # И пусть весь мир помолчит.\n",
    "\n",
    "browser = webdriver.Safari()   # Решили, что selenium, так как запросы через requests отправляют нас на капчу.\n",
    "browser.get('https://auto.ru/cars/used/?page=1') # fake_useragent тоже не помог.\n",
    "\n",
    "data = pd.DataFrame({'Модель': [], \n",
    "                     'Цена': [], \n",
    "                     'Год выпуска': [],\n",
    "                     'Пробег': [],\n",
    "                     'Привод': [],\n",
    "                     'ЛС': [],\n",
    "                     'Тип двигателя': []\n",
    "                     , 'Тип кузова': [],\n",
    "                     'Коробка передач': [],\n",
    "                     'Объем двигателя': [],\n",
    "                     'Цвет' : []})"
   ]
  },
  {
   "cell_type": "code",
   "execution_count": 2,
   "id": "39644367",
   "metadata": {},
   "outputs": [],
   "source": [
    "for i in np.arange(100):\n",
    "    \n",
    "    html = browser.page_source\n",
    "    soup = BeautifulSoup(html)\n",
    "\n",
    "    other = soup.find_all(attrs={\"class\":{\"ListingItemTechSummaryDesktop__cell\"}}) \n",
    "    price = soup.find_all(attrs={\"class\":{\"ListingItemPriceNew__content-HAVf2\"}})\n",
    "    year = soup.find_all(attrs={\"class\":{\"ListingItem__year\"}})\n",
    "    kmage = soup.find_all(attrs={\"class\":{\"ListingItem__kmAge\"}})\n",
    "    model = soup.find_all(attrs={\"class\":{\"ListingItem__summary\"}})\n",
    "    \n",
    "    i_hate_sales = 0\n",
    "    \n",
    "    for j in np.arange(len(year)):\n",
    "    \n",
    "        otherparams = re.sub('\\s+','', other[j*5].text).split('/') # тут сразу много инфы через '/'.\n",
    "        \n",
    "        if price[j+i_hate_sales].text[0:11] == 'со скидками': # трудно отделить цену со скидками от обычной,\n",
    "            i_hate_sales +=1                                  #  у них одинаковый класс и тэг, но так работает.\n",
    "        \n",
    "        data = data.append({'Модель': model[j].a.text,\n",
    "                             'Цена': re.sub('\\W','', price[j+i_hate_sales].text),\n",
    "                             'Год выпуска': year[j].text,\n",
    "                             'Пробег': re.sub('\\D','', kmage[j].text),\n",
    "                             'Привод': other[j*5+3].text,\n",
    "                             'ЛС': re.sub('\\D','', otherparams[1]),\n",
    "                             'Тип двигателя': re.sub('\\s','', otherparams[2]),\n",
    "                             'Тип кузова': other[j*5+2].text,\n",
    "                             'Коробка передач': other[j*5+1].text,\n",
    "                             'Объем двигателя': otherparams[0][:3],\n",
    "                             'Цвет': other[j*5+4].text}, ignore_index=True)\n",
    "        \n",
    "    share = browser.find_element(By.XPATH, \"//*[contains(text(), 'Следующая, Cmd ')]\")\n",
    "    share.click() # Нажимаем на кнопку 'следующая страница'.\n",
    "    time.sleep(5) # Если слишком часто отправлять запросы, серверу не понравится."
   ]
  },
  {
   "cell_type": "code",
   "execution_count": 35,
   "id": "01a6fe26",
   "metadata": {},
   "outputs": [],
   "source": [
    "# Так как у электромобилей нет объема двигателя, все немного рушится. Там, где у всех мощность в л.c.,\n",
    "# у электро — КВт, где объем двигателя, там — мощность в л.c. Сейчас мы это исправим!\n",
    "\n",
    "data.loc[data['Тип двигателя'] == 'Электро', 'ЛС'] = data.loc[data['Тип двигателя'] == 'Электро']['Объем двигателя']\n",
    "data.loc[data['Тип двигателя'] == 'Электро', 'Объем двигателя'] = np.NaN\n",
    "data.loc[data['Тип двигателя'] == 'Электро', 'Запас хода'] = data.loc[data['Тип двигателя'] == 'Электро']['Коробка передач']\n",
    "data.loc[data['Тип двигателя'] == 'Электро', 'Коробка передач'] = np.NaN\n",
    "\n",
    "# Готово. Есть еще жесткая Тесла, у нее 1020 сил. Кто ж знал.\n",
    "data.loc[data['Модель'] == 'Tesla Model X Plaid I Рестайлинг', 'ЛС'] = 1020\n",
    "\n",
    "# Ну вот и все! Парсили 12.05.2023 \n",
    "data.to_csv('parsing.csv')"
   ]
  }
 ],
 "metadata": {
  "kernelspec": {
   "display_name": "Python 3 (ipykernel)",
   "language": "python",
   "name": "python3"
  },
  "language_info": {
   "codemirror_mode": {
    "name": "ipython",
    "version": 3
   },
   "file_extension": ".py",
   "mimetype": "text/x-python",
   "name": "python",
   "nbconvert_exporter": "python",
   "pygments_lexer": "ipython3",
   "version": "3.9.12"
  }
 },
 "nbformat": 4,
 "nbformat_minor": 5
}
